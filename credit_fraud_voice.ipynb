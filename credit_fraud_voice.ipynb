{
 "cells": [
  {
   "cell_type": "code",
   "execution_count": null,
   "id": "e89ab977",
   "metadata": {},
   "outputs": [],
   "source": [
    "import numpy as np\n",
    "import pandas as pd\n",
    "from sklearn.model_selection import train_test_split\n",
    "from sklearn.linear_model import LogisticRegression\n",
    "import matplotlib.pyplot as plt"
   ]
  },
  {
   "cell_type": "code",
   "execution_count": null,
   "id": "bfa4a708",
   "metadata": {},
   "outputs": [],
   "source": [
    "creditcard_data = pd.read_csv(\"creditcard.csv\")"
   ]
  },
  {
   "cell_type": "code",
   "execution_count": null,
   "id": "2ee16d1f",
   "metadata": {},
   "outputs": [],
   "source": [
    "# legit transactions and fraud transactions info\n",
    "creditcard_data['Class'].value_counts()"
   ]
  },
  {
   "cell_type": "code",
   "execution_count": null,
   "id": "cc05d32d",
   "metadata": {},
   "outputs": [],
   "source": [
    "%matplotlib inline\n",
    "plt.xlabel('Amount')\n",
    "plt.ylabel('Time')\n",
    "plt.grid()\n",
    "plt.scatter(creditcard_data.Amount, creditcard_data.Time, color = 'red', marker = '^')\n",
    "plt.show()"
   ]
  },
  {
   "cell_type": "code",
   "execution_count": null,
   "id": "64ca6e3a",
   "metadata": {},
   "outputs": [],
   "source": [
    "plt.xlabel('Time')\n",
    "plt.ylabel('Class')\n",
    "plt.grid()\n",
    "plt.scatter(creditcard_data.Time, creditcard_data.Class, color = 'red', marker = '^')\n",
    "plt.show()"
   ]
  },
  {
   "cell_type": "code",
   "execution_count": null,
   "id": "ce3f65ec",
   "metadata": {},
   "outputs": [],
   "source": [
    "# separating data for analysis\n",
    "valid = creditcard_data[creditcard_data.Class == 0]\n",
    "fraud = creditcard_data[creditcard_data.Class == 1] "
   ]
  },
  {
   "cell_type": "code",
   "execution_count": null,
   "id": "409dc1c0",
   "metadata": {},
   "outputs": [],
   "source": [
    "print(valid.shape)\n",
    "print(fraud.shape)"
   ]
  },
  {
   "cell_type": "code",
   "execution_count": null,
   "id": "9030d1c0",
   "metadata": {},
   "outputs": [],
   "source": [
    "fig, ax1 = plt.subplots(figsize = (8,8))\n",
    "label = ['valid', 'fraud']\n",
    "value = [284315,492]\n",
    "ax1.pie(x = value, labels = label, autopct='%.2f%%',shadow = True, startangle=45,explode=[0,.2] )\n",
    "plt.show()"
   ]
  },
  {
   "cell_type": "code",
   "execution_count": null,
   "id": "2b63abf9",
   "metadata": {},
   "outputs": [],
   "source": [
    "# build a sample dataset \n",
    "valid_sample = valid.sample(n=492)\n",
    "# concatenating two dataset\n",
    "new_df = pd.concat([valid_sample, fraud], axis=0)"
   ]
  },
  {
   "cell_type": "code",
   "execution_count": null,
   "id": "c5d660cf",
   "metadata": {},
   "outputs": [],
   "source": [
    "#spliting the data\n",
    "X = new_df.drop(columns='Class',axis = 1)\n",
    "Y = new_df['Class']"
   ]
  },
  {
   "cell_type": "code",
   "execution_count": null,
   "id": "f9eaf09a",
   "metadata": {},
   "outputs": [],
   "source": [
    "# train & test the data\n",
    "X_train, X_test, Y_train, Y_test = train_test_split(X, Y, test_size=.3, stratify=Y, random_state=2)"
   ]
  },
  {
   "cell_type": "code",
   "execution_count": null,
   "id": "82a7d556",
   "metadata": {},
   "outputs": [],
   "source": [
    "print(X.shape, X_test.shape, X_train.shape)"
   ]
  },
  {
   "cell_type": "code",
   "execution_count": null,
   "id": "5ff3c34f",
   "metadata": {},
   "outputs": [],
   "source": [
    "# model training using logistic Regression\n",
    "model = LogisticRegression()"
   ]
  },
  {
   "cell_type": "code",
   "execution_count": null,
   "id": "bd44540b",
   "metadata": {},
   "outputs": [],
   "source": [
    "# model training using logistic Regression\n",
    "model = LogisticRegression()"
   ]
  },
  {
   "cell_type": "code",
   "execution_count": null,
   "id": "6b042671",
   "metadata": {},
   "outputs": [],
   "source": [
    "i=model.score(X_train,Y_train)\n",
    "j=model.score(X_test,Y_test)\n",
    "print(i)  #taining accuracy score\n",
    "print(j)  #testing accuracy score"
   ]
  },
  {
   "cell_type": "code",
   "execution_count": null,
   "id": "6ef60b4d",
   "metadata": {},
   "outputs": [],
   "source": [
    "print(model.predict(X_test))"
   ]
  },
  {
   "cell_type": "code",
   "execution_count": null,
   "id": "4098a79f",
   "metadata": {},
   "outputs": [],
   "source": [
    "Y_test.value_counts()"
   ]
  },
  {
   "cell_type": "code",
   "execution_count": null,
   "id": "f0a47592",
   "metadata": {},
   "outputs": [],
   "source": [
    "df = pd.read_csv('test.csv')\n",
    "df.head()"
   ]
  },
  {
   "cell_type": "code",
   "execution_count": null,
   "id": "d7c956f4",
   "metadata": {},
   "outputs": [],
   "source": [
    "p = model.predict(df)\n",
    "print(p) # we see the predction price according to the testing data\n"
   ]
  }
 ],
 "metadata": {
  "kernelspec": {
   "display_name": "Python 3",
   "language": "python",
   "name": "python3"
  },
  "language_info": {
   "codemirror_mode": {
    "name": "ipython",
    "version": 3
   },
   "file_extension": ".py",
   "mimetype": "text/x-python",
   "name": "python",
   "nbconvert_exporter": "python",
   "pygments_lexer": "ipython3",
   "version": "3.8.8"
  }
 },
 "nbformat": 4,
 "nbformat_minor": 5
}
