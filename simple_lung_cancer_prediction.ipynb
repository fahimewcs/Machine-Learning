{
 "cells": [
  {
   "cell_type": "code",
   "execution_count": 1,
   "id": "53f9adbd",
   "metadata": {},
   "outputs": [],
   "source": [
    "import numpy as np\n",
    "import pandas as pd\n",
    "import matplotlib.pyplot as plt\n",
    "from sklearn.model_selection import train_test_split\n",
    "from sklearn.metrics import accuracy_score"
   ]
  },
  {
   "cell_type": "code",
   "execution_count": 3,
   "id": "819b2bcb",
   "metadata": {},
   "outputs": [
    {
     "data": {
      "text/html": [
       "<div>\n",
       "<style scoped>\n",
       "    .dataframe tbody tr th:only-of-type {\n",
       "        vertical-align: middle;\n",
       "    }\n",
       "\n",
       "    .dataframe tbody tr th {\n",
       "        vertical-align: top;\n",
       "    }\n",
       "\n",
       "    .dataframe thead th {\n",
       "        text-align: right;\n",
       "    }\n",
       "</style>\n",
       "<table border=\"1\" class=\"dataframe\">\n",
       "  <thead>\n",
       "    <tr style=\"text-align: right;\">\n",
       "      <th></th>\n",
       "      <th>Name</th>\n",
       "      <th>Surname</th>\n",
       "      <th>Age</th>\n",
       "      <th>Smokes</th>\n",
       "      <th>AreaQ</th>\n",
       "      <th>Alkhol</th>\n",
       "      <th>Result</th>\n",
       "    </tr>\n",
       "  </thead>\n",
       "  <tbody>\n",
       "    <tr>\n",
       "      <th>0</th>\n",
       "      <td>John</td>\n",
       "      <td>Wick</td>\n",
       "      <td>35</td>\n",
       "      <td>3</td>\n",
       "      <td>5</td>\n",
       "      <td>4</td>\n",
       "      <td>1</td>\n",
       "    </tr>\n",
       "    <tr>\n",
       "      <th>1</th>\n",
       "      <td>John</td>\n",
       "      <td>Constantine</td>\n",
       "      <td>27</td>\n",
       "      <td>20</td>\n",
       "      <td>2</td>\n",
       "      <td>5</td>\n",
       "      <td>1</td>\n",
       "    </tr>\n",
       "    <tr>\n",
       "      <th>2</th>\n",
       "      <td>Camela</td>\n",
       "      <td>Anderson</td>\n",
       "      <td>30</td>\n",
       "      <td>0</td>\n",
       "      <td>5</td>\n",
       "      <td>2</td>\n",
       "      <td>0</td>\n",
       "    </tr>\n",
       "    <tr>\n",
       "      <th>3</th>\n",
       "      <td>Alex</td>\n",
       "      <td>Telles</td>\n",
       "      <td>28</td>\n",
       "      <td>0</td>\n",
       "      <td>8</td>\n",
       "      <td>1</td>\n",
       "      <td>0</td>\n",
       "    </tr>\n",
       "    <tr>\n",
       "      <th>4</th>\n",
       "      <td>Diego</td>\n",
       "      <td>Maradona</td>\n",
       "      <td>68</td>\n",
       "      <td>4</td>\n",
       "      <td>5</td>\n",
       "      <td>6</td>\n",
       "      <td>1</td>\n",
       "    </tr>\n",
       "  </tbody>\n",
       "</table>\n",
       "</div>"
      ],
      "text/plain": [
       "     Name      Surname  Age  Smokes  AreaQ  Alkhol  Result\n",
       "0    John         Wick   35       3      5       4       1\n",
       "1    John  Constantine   27      20      2       5       1\n",
       "2  Camela     Anderson   30       0      5       2       0\n",
       "3    Alex       Telles   28       0      8       1       0\n",
       "4   Diego     Maradona   68       4      5       6       1"
      ]
     },
     "execution_count": 3,
     "metadata": {},
     "output_type": "execute_result"
    }
   ],
   "source": [
    "df = pd.read_csv('lung_cancer.csv')\n",
    "df.head()"
   ]
  },
  {
   "cell_type": "code",
   "execution_count": 4,
   "id": "444dde41",
   "metadata": {},
   "outputs": [
    {
     "data": {
      "text/plain": [
       "(59, 7)"
      ]
     },
     "execution_count": 4,
     "metadata": {},
     "output_type": "execute_result"
    }
   ],
   "source": [
    "df.shape"
   ]
  },
  {
   "cell_type": "code",
   "execution_count": 5,
   "id": "ca4d86c0",
   "metadata": {},
   "outputs": [
    {
     "name": "stdout",
     "output_type": "stream",
     "text": [
      "<class 'pandas.core.frame.DataFrame'>\n",
      "RangeIndex: 59 entries, 0 to 58\n",
      "Data columns (total 7 columns):\n",
      " #   Column   Non-Null Count  Dtype \n",
      "---  ------   --------------  ----- \n",
      " 0   Name     59 non-null     object\n",
      " 1   Surname  59 non-null     object\n",
      " 2   Age      59 non-null     int64 \n",
      " 3   Smokes   59 non-null     int64 \n",
      " 4   AreaQ    59 non-null     int64 \n",
      " 5   Alkhol   59 non-null     int64 \n",
      " 6   Result   59 non-null     int64 \n",
      "dtypes: int64(5), object(2)\n",
      "memory usage: 3.4+ KB\n"
     ]
    }
   ],
   "source": [
    "df.info()"
   ]
  },
  {
   "cell_type": "code",
   "execution_count": 6,
   "id": "d3e1427a",
   "metadata": {},
   "outputs": [
    {
     "data": {
      "text/html": [
       "<div>\n",
       "<style scoped>\n",
       "    .dataframe tbody tr th:only-of-type {\n",
       "        vertical-align: middle;\n",
       "    }\n",
       "\n",
       "    .dataframe tbody tr th {\n",
       "        vertical-align: top;\n",
       "    }\n",
       "\n",
       "    .dataframe thead th {\n",
       "        text-align: right;\n",
       "    }\n",
       "</style>\n",
       "<table border=\"1\" class=\"dataframe\">\n",
       "  <thead>\n",
       "    <tr style=\"text-align: right;\">\n",
       "      <th></th>\n",
       "      <th>Age</th>\n",
       "      <th>Smokes</th>\n",
       "      <th>AreaQ</th>\n",
       "      <th>Alkhol</th>\n",
       "      <th>Result</th>\n",
       "    </tr>\n",
       "  </thead>\n",
       "  <tbody>\n",
       "    <tr>\n",
       "      <th>count</th>\n",
       "      <td>59.000000</td>\n",
       "      <td>59.000000</td>\n",
       "      <td>59.000000</td>\n",
       "      <td>59.000000</td>\n",
       "      <td>59.000000</td>\n",
       "    </tr>\n",
       "    <tr>\n",
       "      <th>mean</th>\n",
       "      <td>42.627119</td>\n",
       "      <td>15.067797</td>\n",
       "      <td>5.203390</td>\n",
       "      <td>3.237288</td>\n",
       "      <td>0.474576</td>\n",
       "    </tr>\n",
       "    <tr>\n",
       "      <th>std</th>\n",
       "      <td>16.235230</td>\n",
       "      <td>7.984607</td>\n",
       "      <td>2.461984</td>\n",
       "      <td>2.380517</td>\n",
       "      <td>0.503640</td>\n",
       "    </tr>\n",
       "    <tr>\n",
       "      <th>min</th>\n",
       "      <td>18.000000</td>\n",
       "      <td>0.000000</td>\n",
       "      <td>1.000000</td>\n",
       "      <td>0.000000</td>\n",
       "      <td>0.000000</td>\n",
       "    </tr>\n",
       "    <tr>\n",
       "      <th>25%</th>\n",
       "      <td>29.000000</td>\n",
       "      <td>10.000000</td>\n",
       "      <td>3.000000</td>\n",
       "      <td>1.000000</td>\n",
       "      <td>0.000000</td>\n",
       "    </tr>\n",
       "    <tr>\n",
       "      <th>50%</th>\n",
       "      <td>39.000000</td>\n",
       "      <td>15.000000</td>\n",
       "      <td>5.000000</td>\n",
       "      <td>3.000000</td>\n",
       "      <td>0.000000</td>\n",
       "    </tr>\n",
       "    <tr>\n",
       "      <th>75%</th>\n",
       "      <td>55.000000</td>\n",
       "      <td>20.000000</td>\n",
       "      <td>7.500000</td>\n",
       "      <td>5.000000</td>\n",
       "      <td>1.000000</td>\n",
       "    </tr>\n",
       "    <tr>\n",
       "      <th>max</th>\n",
       "      <td>77.000000</td>\n",
       "      <td>34.000000</td>\n",
       "      <td>10.000000</td>\n",
       "      <td>8.000000</td>\n",
       "      <td>1.000000</td>\n",
       "    </tr>\n",
       "  </tbody>\n",
       "</table>\n",
       "</div>"
      ],
      "text/plain": [
       "             Age     Smokes      AreaQ     Alkhol     Result\n",
       "count  59.000000  59.000000  59.000000  59.000000  59.000000\n",
       "mean   42.627119  15.067797   5.203390   3.237288   0.474576\n",
       "std    16.235230   7.984607   2.461984   2.380517   0.503640\n",
       "min    18.000000   0.000000   1.000000   0.000000   0.000000\n",
       "25%    29.000000  10.000000   3.000000   1.000000   0.000000\n",
       "50%    39.000000  15.000000   5.000000   3.000000   0.000000\n",
       "75%    55.000000  20.000000   7.500000   5.000000   1.000000\n",
       "max    77.000000  34.000000  10.000000   8.000000   1.000000"
      ]
     },
     "execution_count": 6,
     "metadata": {},
     "output_type": "execute_result"
    }
   ],
   "source": [
    "df.describe()"
   ]
  },
  {
   "cell_type": "code",
   "execution_count": 8,
   "id": "1a4e519d",
   "metadata": {},
   "outputs": [
    {
     "data": {
      "text/plain": [
       "0    31\n",
       "1    28\n",
       "Name: Result, dtype: int64"
      ]
     },
     "execution_count": 8,
     "metadata": {},
     "output_type": "execute_result"
    }
   ],
   "source": [
    "df['Result'].value_counts()"
   ]
  },
  {
   "cell_type": "markdown",
   "id": "370897f5",
   "metadata": {},
   "source": [
    "0 = The person has no cancer, \n",
    "1= The person has cancer"
   ]
  },
  {
   "cell_type": "code",
   "execution_count": 9,
   "id": "3033bff7",
   "metadata": {},
   "outputs": [],
   "source": [
    "no_cancer = df[df.Result==0]\n",
    "cancer = df[df.Result==1]"
   ]
  },
  {
   "cell_type": "code",
   "execution_count": 20,
   "id": "d0d4b771",
   "metadata": {},
   "outputs": [
    {
     "name": "stdout",
     "output_type": "stream",
     "text": [
      "NON Cancer:  (31, 7)\n",
      "Cancer:  (28, 7)\n"
     ]
    }
   ],
   "source": [
    "# separating data for analysis\n",
    "\n",
    "print('NON Cancer: ',no_cancer.shape)\n",
    "print('Cancer: ',cancer.shape)"
   ]
  },
  {
   "cell_type": "code",
   "execution_count": 23,
   "id": "b6c20ef2",
   "metadata": {},
   "outputs": [
    {
     "data": {
      "image/png": "[encoded data removed]",
      "text/plain": [
       "<Figure size 576x576 with 1 Axes>"
      ]
     },
     "metadata": {},
     "output_type": "display_data"
    }
   ],
   "source": [
    "%matplotlib inline\n",
    "fig, ax1= plt.subplots(figsize=(8,8))\n",
    "label = ['Cancer','NON_cancer']\n",
    "value=[28,31]\n",
    "ax1.pie(x=value, labels=label, autopct='%.2f%%', shadow=True, startangle=45, explode=[0,.01])\n",
    "plt.show()"
   ]
  },
  {
   "cell_type": "code",
   "execution_count": 18,
   "id": "38d1ba7a",
   "metadata": {},
   "outputs": [
    {
     "name": "stderr",
     "output_type": "stream",
     "text": [
      "C:\\Users\\User\\AppData\\Local\\Temp/ipykernel_7756/3002631574.py:1: MatplotlibDeprecationWarning: Case-insensitive properties were deprecated in 3.3 and support will be removed two minor releases later\n",
      "  plt.scatter(cancer.Age, cancer.Smokes, color=\"Red\", Label='cancer(1)')\n",
      "C:\\Users\\User\\AppData\\Local\\Temp/ipykernel_7756/3002631574.py:2: MatplotlibDeprecationWarning: Case-insensitive properties were deprecated in 3.3 and support will be removed two minor releases later\n",
      "  plt.scatter(no_cancer.Age, no_cancer.Smokes, color=\"Green\", Label='Non_cancer(0)')\n"
     ]
    },
    {
     "data": {
      "image/png": "[encoded data removed]",
      "text/plain": [
       "<Figure size 432x288 with 1 Axes>"
      ]
     },
     "metadata": {
      "needs_background": "light"
     },
     "output_type": "display_data"
    }
   ],
   "source": [
    "plt.scatter(cancer.Age, cancer.Smokes, color=\"Red\", Label='cancer(1)')\n",
    "plt.scatter(no_cancer.Age, no_cancer.Smokes, color=\"Green\", Label='Non_cancer(0)')\n",
    "plt.xlabel(\"Age\")\n",
    "plt.ylabel(\"Smokes\")\n",
    "plt.legend()\n",
    "plt.grid()\n",
    "plt.title(\"Smokes vs Age graph according to cancer\")\n",
    "plt.show()"
   ]
  },
  {
   "cell_type": "code",
   "execution_count": 19,
   "id": "f304b14f",
   "metadata": {},
   "outputs": [
    {
     "name": "stderr",
     "output_type": "stream",
     "text": [
      "C:\\Users\\User\\AppData\\Local\\Temp/ipykernel_7756/314123760.py:1: MatplotlibDeprecationWarning: Case-insensitive properties were deprecated in 3.3 and support will be removed two minor releases later\n",
      "  plt.scatter(cancer.Age, cancer.Alkhol, color=\"Red\", Label='cancer(1)')\n",
      "C:\\Users\\User\\AppData\\Local\\Temp/ipykernel_7756/314123760.py:2: MatplotlibDeprecationWarning: Case-insensitive properties were deprecated in 3.3 and support will be removed two minor releases later\n",
      "  plt.scatter(no_cancer.Age, no_cancer.Alkhol, color=\"Green\", Label='Non_cancer(0)')\n"
     ]
    },
    {
     "data": {
      "image/png": "[encoded data removed]",
      "text/plain": [
       "<Figure size 432x288 with 1 Axes>"
      ]
     },
     "metadata": {
      "needs_background": "light"
     },
     "output_type": "display_data"
    }
   ],
   "source": [
    "plt.scatter(cancer.Age, cancer.Alkhol, color=\"Red\", Label='cancer(1)')\n",
    "plt.scatter(no_cancer.Age, no_cancer.Alkhol, color=\"Green\", Label='Non_cancer(0)')\n",
    "plt.xlabel(\"Age\")\n",
    "plt.ylabel(\"Alkhol\")\n",
    "plt.legend()\n",
    "plt.grid()\n",
    "plt.title(\"Smokes vs Age graph according to cancer\")\n",
    "plt.show()"
   ]
  },
  {
   "cell_type": "code",
   "execution_count": 27,
   "id": "c127ec95",
   "metadata": {},
   "outputs": [],
   "source": [
    "# spliting dataset for training\n",
    "X= df.iloc[:,3:5]\n",
    "Y= df.iloc[:,6]"
   ]
  },
  {
   "cell_type": "code",
   "execution_count": 28,
   "id": "0b378f8a",
   "metadata": {},
   "outputs": [],
   "source": [
    "X_train, X_test, Y_train, Y_test = train_test_split(X, Y, test_size=.2, stratify=Y, random_state=2)"
   ]
  },
  {
   "cell_type": "code",
   "execution_count": 32,
   "id": "1931ddef",
   "metadata": {},
   "outputs": [
    {
     "name": "stdout",
     "output_type": "stream",
     "text": [
      "Total:  (59, 2)\n",
      "For Training:  (47, 2)\n",
      "For Testing:  (12, 2)\n"
     ]
    }
   ],
   "source": [
    "print(\"Total: \",X.shape)\n",
    "print(\"For Training: \",X_train.shape)\n",
    "print(\"For Testing: \",X_test.shape)"
   ]
  },
  {
   "cell_type": "code",
   "execution_count": 35,
   "id": "88bf33e8",
   "metadata": {},
   "outputs": [],
   "source": [
    "# model training using KNN\n",
    "\n",
    "from sklearn.neighbors import KNeighborsClassifier\n",
    "model = KNeighborsClassifier()"
   ]
  },
  {
   "cell_type": "code",
   "execution_count": 36,
   "id": "05926a34",
   "metadata": {},
   "outputs": [
    {
     "data": {
      "text/plain": [
       "KNeighborsClassifier()"
      ]
     },
     "execution_count": 36,
     "metadata": {},
     "output_type": "execute_result"
    }
   ],
   "source": [
    "model.fit(X_train, Y_train)"
   ]
  },
  {
   "cell_type": "code",
   "execution_count": 40,
   "id": "2df1c946",
   "metadata": {},
   "outputs": [
    {
     "name": "stdout",
     "output_type": "stream",
     "text": [
      "Predict Result:  [1 1 0 0 1 0 1 1 0 0 1 1]\n"
     ]
    }
   ],
   "source": [
    "y_predict = model.predict(X_test)\n",
    "print(\"Predict Result: \",y_predict)"
   ]
  },
  {
   "cell_type": "code",
   "execution_count": 41,
   "id": "bcf6bdab",
   "metadata": {},
   "outputs": [],
   "source": [
    "# accuracy score for training data and testing data\n",
    "X_train_prediction=model.predict(X_train)\n",
    "X_training_accuracy=accuracy_score(X_train_prediction,Y_train)\n",
    "\n",
    "X_test_prediction=model.predict(X_test)\n",
    "X_testing_accuracy=accuracy_score(X_test_prediction,Y_test)"
   ]
  },
  {
   "cell_type": "code",
   "execution_count": 42,
   "id": "7000f9a7",
   "metadata": {},
   "outputs": [
    {
     "name": "stdout",
     "output_type": "stream",
     "text": [
      "Accuracy score for training data:  0.8936170212765957\n",
      "Accuracy score for testing data:  0.9166666666666666\n"
     ]
    }
   ],
   "source": [
    "print('Accuracy score for training data: ',X_training_accuracy)\n",
    "print('Accuracy score for testing data: ',X_testing_accuracy)"
   ]
  },
  {
   "cell_type": "code",
   "execution_count": 43,
   "id": "fcaaf86a",
   "metadata": {},
   "outputs": [
    {
     "data": {
      "text/plain": [
       "DecisionTreeClassifier()"
      ]
     },
     "execution_count": 43,
     "metadata": {},
     "output_type": "execute_result"
    }
   ],
   "source": [
    "# model training using Decision tree Classifier\n",
    "\n",
    "from sklearn.tree import DecisionTreeClassifier\n",
    "dclf = DecisionTreeClassifier()\n",
    "dclf.fit(X_train,Y_train)"
   ]
  },
  {
   "cell_type": "code",
   "execution_count": 44,
   "id": "a91438fc",
   "metadata": {},
   "outputs": [
    {
     "name": "stdout",
     "output_type": "stream",
     "text": [
      "Predict Result:  [0 1 0 0 1 0 0 1 0 1 1 1]\n"
     ]
    }
   ],
   "source": [
    "y_predict = dclf.predict(X_test)\n",
    "print(\"Predict Result: \",y_predict)"
   ]
  },
  {
   "cell_type": "code",
   "execution_count": 46,
   "id": "f04ebcb5",
   "metadata": {},
   "outputs": [],
   "source": [
    "# accuracy score for training data and testing data\n",
    "X_train_prediction=dclf.predict(X_train)\n",
    "X_training_accuracy=accuracy_score(X_train_prediction,Y_train)\n",
    "\n",
    "X_test_prediction=dclf.predict(X_test)\n",
    "X_testing_accuracy=accuracy_score(X_test_prediction,Y_test)"
   ]
  },
  {
   "cell_type": "code",
   "execution_count": 47,
   "id": "6306677c",
   "metadata": {},
   "outputs": [
    {
     "name": "stdout",
     "output_type": "stream",
     "text": [
      "Accuracy score for training data:  0.9148936170212766\n",
      "Accuracy score for testing data:  0.8333333333333334\n"
     ]
    }
   ],
   "source": [
    "print('Accuracy score for training data: ',X_training_accuracy)\n",
    "print('Accuracy score for testing data: ',X_testing_accuracy)"
   ]
  },
  {
   "cell_type": "code",
   "execution_count": null,
   "id": "dee6f794",
   "metadata": {},
   "outputs": [],
   "source": []
  }
 ],
 "metadata": {
  "kernelspec": {
   "display_name": "Python 3 (ipykernel)",
   "language": "python",
   "name": "python3"
  },
  "language_info": {
   "codemirror_mode": {
    "name": "ipython",
    "version": 3
   },
   "file_extension": ".py",
   "mimetype": "text/x-python",
   "name": "python",
   "nbconvert_exporter": "python",
   "pygments_lexer": "ipython3",
   "version": "3.9.7"
  }
 },
 "nbformat": 4,
 "nbformat_minor": 5
}
